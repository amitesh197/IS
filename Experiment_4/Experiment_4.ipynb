{
  "nbformat": 4,
  "nbformat_minor": 0,
  "metadata": {
    "colab": {
      "provenance": []
    },
    "kernelspec": {
      "name": "python3",
      "display_name": "Python 3"
    },
    "language_info": {
      "name": "python"
    }
  },
  "cells": [
    {
      "cell_type": "code",
      "source": [
        "import math\n",
        "\n",
        "key = \"4312567|\"\n",
        "\n",
        "def encryptMessage(msg):\n",
        "    cipher = \"\"\n",
        "\n",
        "    k_indx = 0\n",
        "\n",
        "    msg_len = float(len(msg))\n",
        "    msg_lst = list(msg)\n",
        "    key_lst = sorted(list(key))\n",
        "\n",
        "    col = len(key)\n",
        "\n",
        "    row = int(math.ceil(msg_len / col))\n",
        "\n",
        "    fill_null = int((row * col) - msg_len)\n",
        "    msg_lst.extend('_' * fill_null)\n",
        "\n",
        "    matrix = [msg_lst[i: i + col]\n",
        "              for i in range(0, len(msg_lst), col)]\n",
        "\n",
        "    for _ in range(col):\n",
        "        curr_idx = key.index(key_lst[k_indx])\n",
        "        cipher += ''.join([row[curr_idx]\n",
        "                          for row in matrix])\n",
        "        k_indx += 1\n",
        "\n",
        "    return cipher\n",
        "\n",
        "def decryptMessage(cipher):\n",
        "    msg = \"\"\n",
        "\n",
        "    k_indx = 0\n",
        "\n",
        "    msg_indx = 0\n",
        "    msg_len = float(len(cipher))\n",
        "    msg_lst = list(cipher)\n",
        "\n",
        "    col = len(key)\n",
        "\n",
        "    row = int(math.ceil(msg_len / col))\n",
        "\n",
        "    key_lst = sorted(list(key))\n",
        "\n",
        "    dec_cipher = []\n",
        "    for _ in range(row):\n",
        "        dec_cipher += [[None] * col]\n",
        "\n",
        "    for _ in range(col):\n",
        "        curr_idx = key.index(key_lst[k_indx])\n",
        "\n",
        "        for j in range(row):\n",
        "            dec_cipher[j][curr_idx] = msg_lst[msg_indx]\n",
        "            msg_indx += 1\n",
        "        k_indx += 1\n",
        "\n",
        "    try:\n",
        "        msg = ''.join(sum(dec_cipher, []))\n",
        "    except TypeError:\n",
        "        raise TypeError(\"This program cannot\",\n",
        "                        \"handle repeating words.\")\n",
        "\n",
        "    null_count = msg.count('_')\n",
        "\n",
        "    if null_count > 0:\n",
        "        return msg[: -null_count]\n",
        "\n",
        "    return msg\n",
        "\n",
        "msg = \"Attack Postponed until two am\"\n",
        "\n",
        "cipher = encryptMessage(msg)\n",
        "print(\"Encrypted Message: {}\".\n",
        "               format(cipher))\n",
        "\n",
        "print(\"Decryped Message: {}\".\n",
        "       format(decryptMessage(cipher)))"
      ],
      "metadata": {
        "colab": {
          "base_uri": "https://localhost:8080/"
        },
        "id": "pmEBuLUpGHOQ",
        "outputId": "556718b3-abed-48ac-f30d-b51f09053827"
      },
      "execution_count": 20,
      "outputs": [
        {
          "output_type": "stream",
          "name": "stdout",
          "text": [
            "Encrypted Message: ttn aptatsuoAo wcoimknl_ e _Pdt_\n",
            "Decryped Message: Attack Postponed until two am\n"
          ]
        }
      ]
    }
  ]
}