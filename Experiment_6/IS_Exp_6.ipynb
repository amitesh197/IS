{
  "nbformat": 4,
  "nbformat_minor": 0,
  "metadata": {
    "colab": {
      "provenance": []
    },
    "kernelspec": {
      "name": "python3",
      "display_name": "Python 3"
    },
    "language_info": {
      "name": "python"
    }
  },
  "cells": [
    {
      "cell_type": "code",
      "source": [
        "from PIL import Image\n",
        "import numpy as np\n",
        "\n",
        "def encrypt_image(input_image_path, output_image_path, key):\n",
        "    image = Image.open(input_image_path)\n",
        "    img_data = np.array(image)\n",
        "\n",
        "    key = key[:img_data.shape[0], :img_data.shape[1], :]\n",
        "\n",
        "    img_data = rail_fence_transposition(img_data)\n",
        "    img_data = np.bitwise_xor(img_data, key)\n",
        "    encrypted_image = Image.fromarray(img_data)\n",
        "    encrypted_image.save(output_image_path)\n",
        "\n",
        "def decrypt_image(encrypted_image_path, output_image_path, key):\n",
        "    encrypted_image = Image.open(encrypted_image_path)\n",
        "    encrypted_data = np.array(encrypted_image)\n",
        "\n",
        "    encrypted_data = reverse_rail_fence_transposition(encrypted_data)\n",
        "\n",
        "    key = key[:encrypted_data.shape[0], :encrypted_data.shape[1], :]\n",
        "\n",
        "    decrypted_data = np.bitwise_xor(encrypted_data, key)\n",
        "\n",
        "    decrypted_image = Image.fromarray(decrypted_data)\n",
        "    decrypted_image.save(output_image_path)\n",
        "\n",
        "def rail_fence_transposition(data):\n",
        "    rows, cols, channels = data.shape\n",
        "    rail_fence = np.zeros((rows, cols, channels), dtype=np.uint8)\n",
        "\n",
        "    for i in range(rows):\n",
        "        if i % 2 == 0:\n",
        "            rail_fence[i, :, :] = data[i, :, :]\n",
        "        else:\n",
        "            rail_fence[i, :, :] = data[i, ::-1, :]\n",
        "\n",
        "    return rail_fence\n",
        "\n",
        "def reverse_rail_fence_transposition(data):\n",
        "    rows, cols, channels = data.shape\n",
        "    rail_fence = np.zeros((rows, cols, channels), dtype=np.uint8)\n",
        "\n",
        "    for i in range(rows):\n",
        "        if i % 2 == 0:\n",
        "            rail_fence[i, :, :] = data[i, :, :]\n",
        "        else:\n",
        "            rail_fence[i, ::-1, :] = data[i, :, :]\n",
        "\n",
        "    return rail_fence\n",
        "\n",
        "if __name__ == \"__main__\":\n",
        "\n",
        "    input_image_path = \"/content/images.jpeg\"\n",
        "    encrypted_image_path = \"encrypted1.jpg\"\n",
        "    decrypted_image_path = \"decrypted1.jpg\"\n",
        "\n",
        "    image = Image.open(input_image_path)\n",
        "    key = np.random.randint(0, 256, size=image.size[::-1] + (3,), dtype=np.uint8)\n",
        "\n",
        "    encrypt_image(input_image_path, encrypted_image_path, key)\n",
        "\n",
        "    decrypt_image(encrypted_image_path, decrypted_image_path, key)\n"
      ],
      "metadata": {
        "id": "EKVxXxhmdUHD"
      },
      "execution_count": 1,
      "outputs": []
    },
    {
      "cell_type": "code",
      "source": [],
      "metadata": {
        "id": "wk5siVVqPcTy"
      },
      "execution_count": null,
      "outputs": []
    }
  ]
}