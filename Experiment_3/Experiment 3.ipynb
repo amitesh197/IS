{
  "nbformat": 4,
  "nbformat_minor": 0,
  "metadata": {
    "colab": {
      "provenance": []
    },
    "kernelspec": {
      "name": "python3",
      "display_name": "Python 3"
    },
    "language_info": {
      "name": "python"
    }
  },
  "cells": [
    {
      "cell_type": "code",
      "source": [
        "string = input(\"Enter string: \")\n",
        "encrypted = ''\n",
        "key = 3\n",
        "for x in string:\n",
        "  if(ord(x)==32):\n",
        "    encrypted += \" \"\n",
        "  else:\n",
        "    encrypted += chr(((ord(x) + key - ord('a'))%26 + ord('a')))\n",
        "print(encrypted)"
      ],
      "metadata": {
        "colab": {
          "base_uri": "https://localhost:8080/"
        },
        "id": "3sFI2I1pF7h1",
        "outputId": "e0a1d912-1f8c-4d2c-a8c4-02817eceeaf5"
      },
      "execution_count": 33,
      "outputs": [
        {
          "output_type": "stream",
          "name": "stdout",
          "text": [
            "Enter string: attack\n",
            "dwwdfn\n"
          ]
        }
      ]
    },
    {
      "cell_type": "code",
      "source": [
        "string = input(\"Enter string: \")\n",
        "decrypted = ''\n",
        "key = -3\n",
        "for x in string:\n",
        "  if(ord(x)==32):\n",
        "    decrypted += \" \"\n",
        "  else:\n",
        "    decrypted += chr(((ord(x) + key - ord('a'))%26 + ord('a')))\n",
        "print(decrypted)"
      ],
      "metadata": {
        "colab": {
          "base_uri": "https://localhost:8080/"
        },
        "id": "7sVLdfd_Hsu9",
        "outputId": "497e0403-40d2-48ee-905f-729bef3dbf84"
      },
      "execution_count": 34,
      "outputs": [
        {
          "output_type": "stream",
          "name": "stdout",
          "text": [
            "Enter string: dwwdfn\n",
            "attack\n"
          ]
        }
      ]
    },
    {
      "cell_type": "code",
      "source": [
        "#Brute force method\n",
        "string = input(\"Enter string: \")\n",
        "for i in range(1, 26):\n",
        "  decrypted = ''\n",
        "  key = -i\n",
        "  for x in string:\n",
        "    if(ord(x)==32):\n",
        "      decrypted += \" \"\n",
        "    else:\n",
        "      decrypted += chr(((ord(x) + key - ord('a'))%26 + ord('a')))\n",
        "  print(decrypted)"
      ],
      "metadata": {
        "colab": {
          "base_uri": "https://localhost:8080/"
        },
        "id": "uhyjZRnNPDdP",
        "outputId": "dc542548-1dd9-473f-dc2a-4e94e426fb2f"
      },
      "execution_count": 45,
      "outputs": [
        {
          "output_type": "stream",
          "name": "stdout",
          "text": [
            "Enter string: dwwdfn\n",
            "cvvcem\n",
            "buubdl\n",
            "attack\n",
            "zsszbj\n",
            "yrryai\n",
            "xqqxzh\n",
            "wppwyg\n",
            "voovxf\n",
            "unnuwe\n",
            "tmmtvd\n",
            "sllsuc\n",
            "rkkrtb\n",
            "qjjqsa\n",
            "piiprz\n",
            "ohhoqy\n",
            "nggnpx\n",
            "mffmow\n",
            "leelnv\n",
            "kddkmu\n",
            "jccjlt\n",
            "ibbiks\n",
            "haahjr\n",
            "gzzgiq\n",
            "fyyfhp\n",
            "exxego\n"
          ]
        }
      ]
    },
    {
      "cell_type": "code",
      "source": [],
      "metadata": {
        "id": "_83dwHoJRu9G"
      },
      "execution_count": null,
      "outputs": []
    }
  ]
}